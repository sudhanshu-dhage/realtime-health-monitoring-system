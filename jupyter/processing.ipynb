{
 "cells": [
  {
   "cell_type": "code",
   "execution_count": 110,
   "id": "7d87785a",
   "metadata": {},
   "outputs": [],
   "source": [
    "# Importing the required libraries.\n",
    "import numpy as np\n",
    "import pandas as pd\n",
    "data = pd.read_csv('project_data.csv',sep=\";\")\n",
    "data = data.drop(columns = [\"id\"])"
   ]
  },
  {
   "cell_type": "code",
   "execution_count": 112,
   "id": "981c1de0",
   "metadata": {},
   "outputs": [
    {
     "name": "stdout",
     "output_type": "stream",
     "text": [
      "There is 1451 outlier\n"
     ]
    }
   ],
   "source": [
    "outlier = ((data[\"ap_hi\"]>200) | (data[\"ap_lo\"]>180) | (data[\"ap_lo\"]<50) | (data[\"ap_hi\"]<=80) | (data[\"height\"]<=100)\n",
    "             | (data[\"weight\"]<=28) )\n",
    "print(\"There is {} outlier\".format(data[outlier][\"cardio\"].count()))\n",
    "data = data[~outlier]\n",
    "data[\"bmi\"] = data[\"weight\"]/ (data[\"height\"]/100)**2"
   ]
  },
  {
   "cell_type": "code",
   "execution_count": 115,
   "id": "6f281cc6",
   "metadata": {},
   "outputs": [
    {
     "name": "stdout",
     "output_type": "stream",
     "text": [
      "Gender:1 is female & Gender:2 is male\n"
     ]
    }
   ],
   "source": [
    "# Detecting Genders\n",
    "a = data[data[\"gender\"]==1][\"height\"].mean()\n",
    "b = data[data[\"gender\"]==2][\"height\"].mean()\n",
    "if a > b:\n",
    "    gender = \"male\"\n",
    "    gender2 = \"female\"\n",
    "else:\n",
    "    gender = \"female\"\n",
    "    gender2 = \"male\"\n",
    "data[\"gender\"] = data[\"gender\"] % 2"
   ]
  },
  {
   "cell_type": "code",
   "execution_count": 117,
   "id": "091c30eb",
   "metadata": {},
   "outputs": [],
   "source": [
    "X = data.drop(columns = ['cardio'])\n",
    "y = data['cardio']"
   ]
  },
  {
   "cell_type": "code",
   "execution_count": 153,
   "id": "2498ee74",
   "metadata": {},
   "outputs": [],
   "source": [
    "from sklearn.preprocessing import MinMaxScaler\n",
    "scalar=MinMaxScaler()\n",
    "x_scaled=scalar.fit_transform(X)"
   ]
  },
  {
   "cell_type": "code",
   "execution_count": 120,
   "id": "0cbe3b4d",
   "metadata": {},
   "outputs": [],
   "source": [
    "from sklearn.tree import DecisionTreeClassifier\n",
    "from sklearn.ensemble import RandomForestClassifier\n",
    "from sklearn.neighbors import KNeighborsClassifier\n",
    "from sklearn.svm import SVC\n",
    "from sklearn.model_selection import GridSearchCV,RandomizedSearchCV,train_test_split\n",
    "from sklearn.metrics import accuracy_score,confusion_matrix,f1_score,roc_curve, roc_auc_score"
   ]
  },
  {
   "cell_type": "code",
   "execution_count": 121,
   "id": "c953bdc7",
   "metadata": {},
   "outputs": [],
   "source": [
    "X_train, X_test, y_train, y_test = train_test_split(x_scaled, y, test_size = 0.30, random_state = 9)"
   ]
  },
  {
   "cell_type": "code",
   "execution_count": 122,
   "id": "5b14fb65",
   "metadata": {},
   "outputs": [],
   "source": [
    "dtc = DecisionTreeClassifier()\n",
    "ran = RandomForestClassifier(n_estimators=90)\n",
    "knn = KNeighborsClassifier(n_neighbors=79)\n",
    "svm = SVC(random_state=6)"
   ]
  },
  {
   "cell_type": "code",
   "execution_count": 123,
   "id": "c9961d32",
   "metadata": {},
   "outputs": [],
   "source": [
    "models = {\"Decision tree\" : dtc,\n",
    "          \"Random forest\" : ran,\n",
    "          \"KNN\" : knn,\n",
    "          \"SVM\" : svm}\n",
    "scores= { }"
   ]
  },
  {
   "cell_type": "code",
   "execution_count": 124,
   "id": "004283af",
   "metadata": {},
   "outputs": [],
   "source": [
    "for key, value in models.items():    \n",
    "    model = value\n",
    "    model.fit(X_train, y_train)\n",
    "    scores[key] = model.score(X_test, y_test)"
   ]
  },
  {
   "cell_type": "code",
   "execution_count": null,
   "metadata": {},
   "outputs": [],
   "source": [
    "scores_frame = pd.DataFrame(scores, index=[\"Accuracy Score\"]).T\n",
    "scores_frame.sort_values(by=[\"Accuracy Score\"], axis=0 ,ascending=False, inplace=True)\n",
    "scores_frame"
   ]
  },
  {
   "cell_type": "code",
   "execution_count": null,
   "id": "46414d01",
   "metadata": {},
   "outputs": [],
   "source": [
    "#predicted_svc=svm.predict(X_test)"
   ]
  },
  {
   "cell_type": "code",
   "execution_count": 206,
   "id": "97211253",
   "metadata": {},
   "outputs": [],
   "source": [
    "from kafka import KafkaConsumer\n",
    "from json import loads\n",
    "import json\n",
    "import pandas as pd\n",
    "from kafka import KafkaProducer\n",
    "from pykafka import KafkaClient"
   ]
  },
  {
   "cell_type": "code",
   "execution_count": 207,
   "id": "628159d1",
   "metadata": {},
   "outputs": [
    {
     "name": "stderr",
     "output_type": "stream",
     "text": [
      "WARNING:kafka.coordinator.consumer:group_id is None: disabling auto-commit.\n"
     ]
    }
   ],
   "source": [
    "consumer = KafkaConsumer('input_topic',bootstrap_servers=['kafka:9092'])\n"
   ]
  },
  {
   "cell_type": "code",
   "execution_count": null,
   "id": "b2c4e209",
   "metadata": {},
   "outputs": [],
   "source": [
    "client = KafkaClient(hosts=\"kafka:9092\")\n",
    "topic = client.topics['output_topic']\n",
    "producer = topic.get_sync_producer()\n",
    "for message in consumer:\n",
    "    df = pd.read_json(message.value, orient=\"index\")\n",
    "    df = df.transpose()\n",
    "    dftmp = df\n",
    "    dftmp = dftmp.drop(columns = [\"id\"])\n",
    "    dftmp = dftmp.drop(columns = ['cardio'])\n",
    "    dftmp[\"bmi\"] = dftmp[\"weight\"]/ (dftmp[\"height\"]/100)**2\n",
    "    dftmp[\"gender\"] = dftmp[\"gender\"] % 2\n",
    "    message_x_scaled=scalar.transform(dftmp)  #message_x_scaled is numpy array \n",
    "    \n",
    "    predicted_svc=svm.predict(message_x_scaled)\n",
    "    \n",
    "    if(predicted_svc==1):\n",
    "        df[\"prediction\"] = \"abnormal\"\n",
    "    else:\n",
    "        df[\"prediction\"] = \"normal\"\n",
    "    \n",
    "    result = df.to_json(orient=\"index\")\n",
    "    producer.produce(result.encode('ascii'))\n",
    "    \n",
    "    \n",
    "    "
   ]
  }
 ],
 "metadata": {
  "kernelspec": {
   "display_name": "Python 3",
   "language": "python",
   "name": "python3"
  },
  "language_info": {
   "codemirror_mode": {
    "name": "ipython",
    "version": 3
   },
   "file_extension": ".py",
   "mimetype": "text/x-python",
   "name": "python",
   "nbconvert_exporter": "python",
   "pygments_lexer": "ipython3",
   "version": "3.9.4"
  }
 },
 "nbformat": 4,
 "nbformat_minor": 5
}